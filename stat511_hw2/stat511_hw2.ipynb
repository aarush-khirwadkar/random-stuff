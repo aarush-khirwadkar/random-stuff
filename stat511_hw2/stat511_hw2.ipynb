{
 "cells": [
  {
   "cell_type": "code",
   "execution_count": 9,
   "id": "fe7366a1",
   "metadata": {},
   "outputs": [
    {
     "data": {
      "text/latex": [
       "$\\displaystyle \\frac{c \\mu^{2} \\sum_{i=1}^{n} {x}_{i} - c \\mu n - c \\mu \\sum_{i=1}^{n} {x}_{i}^{2} + c \\sum_{i=1}^{n} {x}_{i} - \\mu^{3} n + \\mu n}{\\mu^{4} - 2 \\mu^{2} + 1}$"
      ],
      "text/plain": [
       "(c*mu**2*Sum(x[i], (i, 1, n)) - c*mu*n - c*mu*Sum(x[i]**2, (i, 1, n)) + c*Sum(x[i], (i, 1, n)) - mu**3*n + mu*n)/(mu**4 - 2*mu**2 + 1)"
      ]
     },
     "execution_count": 9,
     "metadata": {},
     "output_type": "execute_result"
    }
   ],
   "source": [
    "import sympy as sp\n",
    "\n",
    "# define symbols\n",
    "n, c, mu = sp.symbols('n c mu')\n",
    "x = sp.IndexedBase('x')\n",
    "i = sp.symbols('i', integer=True)\n",
    "\n",
    "# sum over i=1 to n\n",
    "sum_term = sp.summation((x[i] - mu)**2, (i, 1, n))\n",
    "\n",
    "# define the expression\n",
    "expr = (n/2) * sp.log(c / (2*sp.pi*(1 - mu**2))) \\\n",
    "       - (c / (2*(1 - mu**2))) * sum_term\n",
    "\n",
    "# derivative wrt mu\n",
    "dexpr = sp.diff(expr, mu)\n",
    "\n",
    "sp.simplify(dexpr)"
   ]
  },
  {
   "cell_type": "code",
   "execution_count": 10,
   "id": "8f4ed27e",
   "metadata": {},
   "outputs": [
    {
     "data": {
      "text/plain": [
       "[S1*c/(3*n) - (S1**2*c**2/n**2 - 3*(S2*c + c*n - n)/n)/(3*(-S1**3*c**3/n**3 - 27*S1*c/(2*n) + 9*S1*c*(S2*c + c*n - n)/(2*n**2) + sqrt(-4*(S1**2*c**2/n**2 - 3*(S2*c + c*n - n)/n)**3 + (-2*S1**3*c**3/n**3 - 27*S1*c/n + 9*S1*c*(S2*c + c*n - n)/n**2)**2)/2)**(1/3)) - (-S1**3*c**3/n**3 - 27*S1*c/(2*n) + 9*S1*c*(S2*c + c*n - n)/(2*n**2) + sqrt(-4*(S1**2*c**2/n**2 - 3*(S2*c + c*n - n)/n)**3 + (-2*S1**3*c**3/n**3 - 27*S1*c/n + 9*S1*c*(S2*c + c*n - n)/n**2)**2)/2)**(1/3)/3,\n",
       " S1*c/(3*n) - (S1**2*c**2/n**2 - 3*(S2*c + c*n - n)/n)/(3*(-1/2 - sqrt(3)*I/2)*(-S1**3*c**3/n**3 - 27*S1*c/(2*n) + 9*S1*c*(S2*c + c*n - n)/(2*n**2) + sqrt(-4*(S1**2*c**2/n**2 - 3*(S2*c + c*n - n)/n)**3 + (-2*S1**3*c**3/n**3 - 27*S1*c/n + 9*S1*c*(S2*c + c*n - n)/n**2)**2)/2)**(1/3)) - (-1/2 - sqrt(3)*I/2)*(-S1**3*c**3/n**3 - 27*S1*c/(2*n) + 9*S1*c*(S2*c + c*n - n)/(2*n**2) + sqrt(-4*(S1**2*c**2/n**2 - 3*(S2*c + c*n - n)/n)**3 + (-2*S1**3*c**3/n**3 - 27*S1*c/n + 9*S1*c*(S2*c + c*n - n)/n**2)**2)/2)**(1/3)/3,\n",
       " S1*c/(3*n) - (S1**2*c**2/n**2 - 3*(S2*c + c*n - n)/n)/(3*(-1/2 + sqrt(3)*I/2)*(-S1**3*c**3/n**3 - 27*S1*c/(2*n) + 9*S1*c*(S2*c + c*n - n)/(2*n**2) + sqrt(-4*(S1**2*c**2/n**2 - 3*(S2*c + c*n - n)/n)**3 + (-2*S1**3*c**3/n**3 - 27*S1*c/n + 9*S1*c*(S2*c + c*n - n)/n**2)**2)/2)**(1/3)) - (-1/2 + sqrt(3)*I/2)*(-S1**3*c**3/n**3 - 27*S1*c/(2*n) + 9*S1*c*(S2*c + c*n - n)/(2*n**2) + sqrt(-4*(S1**2*c**2/n**2 - 3*(S2*c + c*n - n)/n)**3 + (-2*S1**3*c**3/n**3 - 27*S1*c/n + 9*S1*c*(S2*c + c*n - n)/n**2)**2)/2)**(1/3)/3]"
      ]
     },
     "execution_count": 10,
     "metadata": {},
     "output_type": "execute_result"
    }
   ],
   "source": [
    "# symbols\n",
    "mu = sp.symbols('mu', real=True)\n",
    "n, c, S1, S2 = sp.symbols('n c S1 S2', positive=True, real=True)\n",
    "\n",
    "# cubic from dE/dmu = 0\n",
    "poly = n*mu**3 - c*S1*mu**2 + (c*S2 - n*(1 - c))*mu - c*S1\n",
    "\n",
    "# solve\n",
    "sol_syms = sp.solve(sp.Eq(poly, 0), mu)\n",
    "sol_syms"
   ]
  }
 ],
 "metadata": {
  "kernelspec": {
   "display_name": "Python 3",
   "language": "python",
   "name": "python3"
  },
  "language_info": {
   "codemirror_mode": {
    "name": "ipython",
    "version": 3
   },
   "file_extension": ".py",
   "mimetype": "text/x-python",
   "name": "python",
   "nbconvert_exporter": "python",
   "pygments_lexer": "ipython3",
   "version": "3.13.7"
  }
 },
 "nbformat": 4,
 "nbformat_minor": 5
}
